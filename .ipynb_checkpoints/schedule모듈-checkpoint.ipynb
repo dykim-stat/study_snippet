{
 "cells": [
  {
   "cell_type": "code",
   "execution_count": 1,
   "metadata": {},
   "outputs": [],
   "source": [
    "import schedule\n",
    "import time"
   ]
  },
  {
   "cell_type": "code",
   "execution_count": 4,
   "metadata": {},
   "outputs": [
    {
     "data": {
      "text/plain": [
       "Every 1 second do job() (last run: [never], next run: 2021-07-03 17:05:29)"
      ]
     },
     "execution_count": 4,
     "metadata": {},
     "output_type": "execute_result"
    }
   ],
   "source": [
    "def job():\n",
    "    print('잘 돌아가는 중입니다 ...')\n",
    "\n",
    "schedule.every(1).second.do(job)"
   ]
  },
  {
   "cell_type": "code",
   "execution_count": 5,
   "metadata": {},
   "outputs": [
    {
     "name": "stdout",
     "output_type": "stream",
     "text": [
      "1\n",
      "잘 돌아가는 중입니다 ...\n",
      "2\n",
      "잘 돌아가는 중입니다 ...\n",
      "3\n",
      "잘 돌아가는 중입니다 ...\n",
      "4\n",
      "잘 돌아가는 중입니다 ...\n",
      "5\n",
      "잘 돌아가는 중입니다 ...\n",
      "6\n",
      "잘 돌아가는 중입니다 ...\n",
      "7\n",
      "잘 돌아가는 중입니다 ...\n",
      "8\n",
      "잘 돌아가는 중입니다 ...\n",
      "9\n",
      "잘 돌아가는 중입니다 ...\n",
      "10\n",
      "잘 돌아가는 중입니다 ...\n",
      "11\n",
      "잘 돌아가는 중입니다 ...\n",
      "12\n",
      "잘 돌아가는 중입니다 ...\n",
      "13\n",
      "잘 돌아가는 중입니다 ...\n",
      "14\n",
      "잘 돌아가는 중입니다 ...\n",
      "15\n",
      "잘 돌아가는 중입니다 ...\n",
      "16\n",
      "잘 돌아가는 중입니다 ...\n",
      "17\n",
      "잘 돌아가는 중입니다 ...\n",
      "18\n",
      "잘 돌아가는 중입니다 ...\n",
      "19\n",
      "잘 돌아가는 중입니다 ...\n",
      "20\n",
      "잘 돌아가는 중입니다 ...\n",
      "21\n",
      "잘 돌아가는 중입니다 ...\n",
      "22\n",
      "잘 돌아가는 중입니다 ...\n",
      "23\n",
      "잘 돌아가는 중입니다 ...\n",
      "24\n",
      "잘 돌아가는 중입니다 ...\n",
      "25\n",
      "잘 돌아가는 중입니다 ...\n",
      "26\n",
      "잘 돌아가는 중입니다 ...\n",
      "27\n",
      "잘 돌아가는 중입니다 ...\n",
      "28\n",
      "잘 돌아가는 중입니다 ...\n",
      "29\n",
      "잘 돌아가는 중입니다 ...\n",
      "30\n",
      "잘 돌아가는 중입니다 ...\n",
      "31\n",
      "잘 돌아가는 중입니다 ...\n",
      "32\n",
      "잘 돌아가는 중입니다 ...\n"
     ]
    },
    {
     "ename": "KeyboardInterrupt",
     "evalue": "",
     "output_type": "error",
     "traceback": [
      "\u001b[1;31m---------------------------------------------------------------------------\u001b[0m",
      "\u001b[1;31mKeyboardInterrupt\u001b[0m                         Traceback (most recent call last)",
      "\u001b[1;32m<ipython-input-5-3ced518953f5>\u001b[0m in \u001b[0;36m<module>\u001b[1;34m\u001b[0m\n\u001b[0;32m      3\u001b[0m     \u001b[0mschedule\u001b[0m\u001b[1;33m.\u001b[0m\u001b[0mrun_pending\u001b[0m\u001b[1;33m(\u001b[0m\u001b[1;33m)\u001b[0m\u001b[1;33m\u001b[0m\u001b[1;33m\u001b[0m\u001b[0m\n\u001b[0;32m      4\u001b[0m     \u001b[0mcount\u001b[0m \u001b[1;33m+=\u001b[0m \u001b[1;36m1\u001b[0m\u001b[1;33m\u001b[0m\u001b[1;33m\u001b[0m\u001b[0m\n\u001b[1;32m----> 5\u001b[1;33m     \u001b[0mtime\u001b[0m\u001b[1;33m.\u001b[0m\u001b[0msleep\u001b[0m\u001b[1;33m(\u001b[0m\u001b[1;36m1\u001b[0m\u001b[1;33m)\u001b[0m\u001b[1;33m\u001b[0m\u001b[1;33m\u001b[0m\u001b[0m\n\u001b[0m\u001b[0;32m      6\u001b[0m     \u001b[0mprint\u001b[0m\u001b[1;33m(\u001b[0m\u001b[0mcount\u001b[0m\u001b[1;33m)\u001b[0m\u001b[1;33m\u001b[0m\u001b[1;33m\u001b[0m\u001b[0m\n",
      "\u001b[1;31mKeyboardInterrupt\u001b[0m: "
     ]
    }
   ],
   "source": [
    "count = 0\n",
    "while True:\n",
    "    schedule.run_pending()\n",
    "    count += 1\n",
    "    time.sleep(1)\n",
    "    print(count)"
   ]
  }
 ],
 "metadata": {
  "interpreter": {
   "hash": "b3ba2566441a7c06988d0923437866b63cedc61552a5af99d1f4fb67d367b25f"
  },
  "kernelspec": {
   "display_name": "Python 3",
   "language": "python",
   "name": "python3"
  },
  "language_info": {
   "codemirror_mode": {
    "name": "ipython",
    "version": 3
   },
   "file_extension": ".py",
   "mimetype": "text/x-python",
   "name": "python",
   "nbconvert_exporter": "python",
   "pygments_lexer": "ipython3",
   "version": "3.8.5"
  }
 },
 "nbformat": 4,
 "nbformat_minor": 2
}

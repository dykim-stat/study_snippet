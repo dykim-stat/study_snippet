{
 "metadata": {
  "language_info": {
   "codemirror_mode": {
    "name": "ipython",
    "version": 3
   },
   "file_extension": ".py",
   "mimetype": "text/x-python",
   "name": "python",
   "nbconvert_exporter": "python",
   "pygments_lexer": "ipython3",
   "version": 3
  },
  "orig_nbformat": 4
 },
 "nbformat": 4,
 "nbformat_minor": 2,
 "cells": [
  {
   "source": [
    "## ipynb 깃헙으로 안보일 때 "
   ],
   "cell_type": "markdown",
   "metadata": {}
  },
  {
   "source": [
    "ipynb를 공부정리용 또는 데이터 다룰 때 종종 쓰게 되는데, github에서 열다보면 크기가 커지면(?) 잘 못여는 경우가 종종 있는 듯 하다.\n",
    "\n",
    "Sorry, something went wrong. Reload? 라고 뜬다.."
   ],
   "cell_type": "markdown",
   "metadata": {}
  },
  {
   "source": [
    "https://nbviewer.jupyter.org/\n",
    "\n",
    "여기 홈페이지에 가서 열고 싶은 깃헙 주소를 그대로 붙여서 변환!\n",
    "\n",
    "\"https://github.com/dykim-stat/study_snippet/blob/main/class%EA%B3%B5%EB%B6%80.ipynb\" 이거를 붙여넣고 Go를 누른다.\n",
    "\n",
    "\n",
    "https://nbviewer.jupyter.org/github/dykim-stat/study_snippet/blob/main/class%EA%B3%B5%EB%B6%80.ipynb\n",
    "\n",
    "이렇게 보면 정말 빠르게 변환해주기도하고, 누구에게 자신의 깃허브 전체가 아니라 해당 파일만 공유하고 싶다면,\n",
    "\n",
    "이 방법을 통해서 공유해준다면 파일 다운같은거 필요없이 편하게 공유해주는 하나의 방법이 될 수도 있겠다.\n"
   ],
   "cell_type": "markdown",
   "metadata": {}
  }
 ]
}